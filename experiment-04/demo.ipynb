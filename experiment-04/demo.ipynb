{
 "cells": [
  {
   "cell_type": "code",
   "execution_count": 10,
   "metadata": {},
   "outputs": [],
   "source": [
    "from utils.dataset import gaussian,gmm_em,get_data\n",
    "import numpy as np\n",
    "\n",
    "K = 4\n",
    "steps = 10\n",
    "dataA,dataB = get_data()\n",
    "_,alphaA,muA,covA = gmm_em(dataA,K,steps)\n",
    "_,alphaB,muB,covB = gmm_em(dataB,K,steps)\n"
   ]
  },
  {
   "cell_type": "code",
   "execution_count": 11,
   "metadata": {},
   "outputs": [],
   "source": [
    "testA,testB = get_data()\n",
    "pA = np.zeros([testA.shape[0],K])\n",
    "pA_ = np.zeros([testA.shape[0],K])\n",
    "pB = np.zeros([testB.shape[0],K])\n",
    "pB_ = np.zeros([testB.shape[0],K])"
   ]
  },
  {
   "cell_type": "code",
   "execution_count": 12,
   "metadata": {},
   "outputs": [],
   "source": [
    "for k in range(K):\n",
    "    pA[:, k] = alphaA[k] * gaussian(testA, muA[k], covA[k])\n",
    "    pA_[:, k] = alphaB[k] * gaussian(testA, muB[k], covB[k])\n",
    "    pB[:, k] = alphaB[k] * gaussian(testB, muB[k], covB[k])\n",
    "    pB_[:, k] = alphaA[k] * gaussian(testB, muA[k], covA[k])\n",
    "probA = np.sum(pA, axis=1)\n",
    "probA_ = np.sum(pA_, axis=1)\n",
    "probB = np.sum(pB, axis=1)\n",
    "probB_ = np.sum(pB_,axis=1)\n",
    "accA = probA > probA_\n",
    "accB = probB > probB_"
   ]
  },
  {
   "cell_type": "code",
   "execution_count": 13,
   "metadata": {},
   "outputs": [
    {
     "name": "stdout",
     "output_type": "stream",
     "text": [
      "0.815311004784689\n",
      "0.8297872340425532\n"
     ]
    }
   ],
   "source": [
    "accA = np.array(accA,dtype=int)\n",
    "accB = np.array(accB,dtype=int)\n",
    "accTotal = np.concatenate([accA,accB])\n",
    "print(np.mean(accA))\n",
    "print(np.mean(accB))"
   ]
  },
  {
   "cell_type": "code",
   "execution_count": 14,
   "metadata": {},
   "outputs": [
    {
     "name": "stdout",
     "output_type": "stream",
     "text": [
      "Total accurary 0.82\n"
     ]
    }
   ],
   "source": [
    "print('Total accurary %.2f'%np.mean(accTotal))"
   ]
  }
 ],
 "metadata": {
  "kernelspec": {
   "display_name": "Python 3 (ipykernel)",
   "language": "python",
   "name": "python3"
  },
  "language_info": {
   "codemirror_mode": {
    "name": "ipython",
    "version": 3
   },
   "file_extension": ".py",
   "mimetype": "text/x-python",
   "name": "python",
   "nbconvert_exporter": "python",
   "pygments_lexer": "ipython3",
   "version": "3.10.4"
  },
  "orig_nbformat": 4,
  "vscode": {
   "interpreter": {
    "hash": "5196a89f855f2e3efe257bdf68a9d25c956646a9a8972acd892c7a476e6a2ad9"
   }
  }
 },
 "nbformat": 4,
 "nbformat_minor": 2
}
