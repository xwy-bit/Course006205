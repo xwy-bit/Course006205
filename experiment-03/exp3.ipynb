{
 "cells": [
  {
   "cell_type": "code",
   "execution_count": 4,
   "metadata": {},
   "outputs": [
    {
     "ename": "ImportError",
     "evalue": "cannot import name 'get_paras' from 'utils.dataset' (/data1/xuwy/repository/smap/Course006205/experiment-03/utils/dataset.py)",
     "output_type": "error",
     "traceback": [
      "\u001b[0;31m---------------------------------------------------------------------------\u001b[0m",
      "\u001b[0;31mImportError\u001b[0m                               Traceback (most recent call last)",
      "\u001b[1;32m/data1/xuwy/repository/smap/Course006205/experiment-03/exp3.ipynb Cell 1\u001b[0m in \u001b[0;36m<cell line: 2>\u001b[0;34m()\u001b[0m\n\u001b[1;32m      <a href='vscode-notebook-cell://ssh-remote%2Bmcc/data1/xuwy/repository/smap/Course006205/experiment-03/exp3.ipynb#W0sdnNjb2RlLXJlbW90ZQ%3D%3D?line=0'>1</a>\u001b[0m \u001b[39mimport\u001b[39;00m \u001b[39mnumpy\u001b[39;00m \u001b[39mas\u001b[39;00m \u001b[39mnp\u001b[39;00m\n\u001b[0;32m----> <a href='vscode-notebook-cell://ssh-remote%2Bmcc/data1/xuwy/repository/smap/Course006205/experiment-03/exp3.ipynb#W0sdnNjb2RlLXJlbW90ZQ%3D%3D?line=1'>2</a>\u001b[0m \u001b[39mfrom\u001b[39;00m \u001b[39mutils\u001b[39;00m\u001b[39m.\u001b[39;00m\u001b[39mdataset\u001b[39;00m \u001b[39mimport\u001b[39;00m get_paras,gaussian_prop\n",
      "\u001b[0;31mImportError\u001b[0m: cannot import name 'get_paras' from 'utils.dataset' (/data1/xuwy/repository/smap/Course006205/experiment-03/utils/dataset.py)"
     ]
    }
   ],
   "source": [
    "import numpy as np\n",
    "from utils.dataset import get_data,get_paras,gaussian_prop"
   ]
  },
  {
   "cell_type": "code",
   "execution_count": null,
   "metadata": {},
   "outputs": [],
   "source": [
    "dataA,dataB = get_data()"
   ]
  },
  {
   "cell_type": "code",
   "execution_count": null,
   "metadata": {},
   "outputs": [],
   "source": [
    "mu_a, sigma_a = get_paras(dataA)\n",
    "mu_b, sigma_b = get_paras(dataB)"
   ]
  },
  {
   "cell_type": "code",
   "execution_count": null,
   "metadata": {},
   "outputs": [],
   "source": [
    "print(gaussian_prop(dataA,mu_a,sigma_a))"
   ]
  }
 ],
 "metadata": {
  "kernelspec": {
   "display_name": "Python 3.10.4 ('smap': conda)",
   "language": "python",
   "name": "python3"
  },
  "language_info": {
   "codemirror_mode": {
    "name": "ipython",
    "version": 3
   },
   "file_extension": ".py",
   "mimetype": "text/x-python",
   "name": "python",
   "nbconvert_exporter": "python",
   "pygments_lexer": "ipython3",
   "version": "3.10.4"
  },
  "orig_nbformat": 4,
  "vscode": {
   "interpreter": {
    "hash": "5196a89f855f2e3efe257bdf68a9d25c956646a9a8972acd892c7a476e6a2ad9"
   }
  }
 },
 "nbformat": 4,
 "nbformat_minor": 2
}
