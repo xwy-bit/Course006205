{
 "cells": [
  {
   "cell_type": "code",
   "execution_count": 2,
   "metadata": {},
   "outputs": [],
   "source": [
    "import numpy as np\n",
    "from utils.dataset import get_data,get_paras,gaussian_prop"
   ]
  },
  {
   "cell_type": "code",
   "execution_count": 3,
   "metadata": {},
   "outputs": [],
   "source": [
    "dataA,dataB = get_data()\n",
    "mu_a, sigma_a = get_paras(dataA)\n",
    "mu_b, sigma_b = get_paras(dataB)"
   ]
  },
  {
   "cell_type": "code",
   "execution_count": 4,
   "metadata": {},
   "outputs": [],
   "source": [
    "testA,testB = get_data('./dataset/Test.txt')"
   ]
  },
  {
   "cell_type": "code",
   "execution_count": 5,
   "metadata": {},
   "outputs": [
    {
     "name": "stdout",
     "output_type": "stream",
     "text": [
      "Accuracy in A  0.71\n"
     ]
    }
   ],
   "source": [
    "proA = gaussian_prop(testA,mu_a,sigma_a)\n",
    "proA_ = gaussian_prop(testA,mu_b,sigma_b)\n",
    "A_acc = np.array(proA > proA_,dtype=int)\n",
    "print('Accuracy in A  %.2f'%np.mean(A_acc))"
   ]
  },
  {
   "cell_type": "code",
   "execution_count": 6,
   "metadata": {},
   "outputs": [
    {
     "name": "stdout",
     "output_type": "stream",
     "text": [
      "Accuracy in B  0.82\n"
     ]
    }
   ],
   "source": [
    "proB = gaussian_prop(testB,mu_b,sigma_b)\n",
    "proB_ = gaussian_prop(testB,mu_a,sigma_a)\n",
    "B_acc = np.array(proB > proB_,dtype=int)\n",
    "print('Accuracy in B  %.2f'%np.mean(B_acc))"
   ]
  },
  {
   "cell_type": "code",
   "execution_count": 7,
   "metadata": {},
   "outputs": [
    {
     "name": "stdout",
     "output_type": "stream",
     "text": [
      "Total accurary 0.76\n"
     ]
    }
   ],
   "source": [
    "total_acc = np.concatenate([A_acc,B_acc])\n",
    "print('Total accurary %.2f'%np.mean(total_acc))"
   ]
  }
 ],
 "metadata": {
  "kernelspec": {
   "display_name": "Python 3.10.4 ('smap': conda)",
   "language": "python",
   "name": "python3"
  },
  "language_info": {
   "codemirror_mode": {
    "name": "ipython",
    "version": 3
   },
   "file_extension": ".py",
   "mimetype": "text/x-python",
   "name": "python",
   "nbconvert_exporter": "python",
   "pygments_lexer": "ipython3",
   "version": "3.10.4"
  },
  "orig_nbformat": 4,
  "vscode": {
   "interpreter": {
    "hash": "5196a89f855f2e3efe257bdf68a9d25c956646a9a8972acd892c7a476e6a2ad9"
   }
  }
 },
 "nbformat": 4,
 "nbformat_minor": 2
}
